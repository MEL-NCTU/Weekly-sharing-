{
  "nbformat": 4,
  "nbformat_minor": 0,
  "metadata": {
    "colab": {
      "name": "pycorrector.ipynb",
      "provenance": []
    },
    "kernelspec": {
      "name": "python3",
      "display_name": "Python 3"
    }
  },
  "cells": [
    {
      "cell_type": "code",
      "metadata": {
        "id": "uGWdU6d__dbV",
        "colab_type": "code",
        "colab": {
          "base_uri": "https://localhost:8080/",
          "height": 190
        },
        "outputId": "3efde25c-6ad9-4f96-818b-08f381235727"
      },
      "source": [
        "!pip install https://github.com/kpu/kenlm/archive/master.zip"
      ],
      "execution_count": 1,
      "outputs": [
        {
          "output_type": "stream",
          "text": [
            "Collecting https://github.com/kpu/kenlm/archive/master.zip\n",
            "\u001b[?25l  Downloading https://github.com/kpu/kenlm/archive/master.zip (539kB)\n",
            "\u001b[K     |████████████████████████████████| 542kB 468kB/s \n",
            "\u001b[?25hRequirement already satisfied (use --upgrade to upgrade): kenlm==0.0.0 from https://github.com/kpu/kenlm/archive/master.zip in /usr/local/lib/python3.6/dist-packages\n",
            "Building wheels for collected packages: kenlm\n",
            "  Building wheel for kenlm (setup.py) ... \u001b[?25l\u001b[?25hdone\n",
            "  Created wheel for kenlm: filename=kenlm-0.0.0-cp36-cp36m-linux_x86_64.whl size=2332622 sha256=c8802f3183aa58716bba5fe6de453ece2923757850d02a084a2ae8f38c0fb36f\n",
            "  Stored in directory: /tmp/pip-ephem-wheel-cache-r2jxok0f/wheels/2d/32/73/e3093c9d11dc8abf79c156a4db1a1c5631428059d4f9ff2cba\n",
            "Successfully built kenlm\n"
          ],
          "name": "stdout"
        }
      ]
    },
    {
      "cell_type": "code",
      "metadata": {
        "id": "HtDg08ap_5w6",
        "colab_type": "code",
        "colab": {
          "base_uri": "https://localhost:8080/",
          "height": 153
        },
        "outputId": "ca424cb4-9f15-418f-cf54-37217768fd6b"
      },
      "source": [
        "!pip install pycorrector"
      ],
      "execution_count": 2,
      "outputs": [
        {
          "output_type": "stream",
          "text": [
            "Requirement already satisfied: pycorrector in /usr/local/lib/python3.6/dist-packages (0.2.1)\n",
            "Requirement already satisfied: kenlm==0.0.0 in /usr/local/lib/python3.6/dist-packages (from pycorrector) (0.0.0)\n",
            "Requirement already satisfied: pypinyin in /usr/local/lib/python3.6/dist-packages (from pycorrector) (0.36.0)\n",
            "Requirement already satisfied: scikit-learn in /usr/local/lib/python3.6/dist-packages (from pycorrector) (0.21.3)\n",
            "Requirement already satisfied: scipy in /usr/local/lib/python3.6/dist-packages (from pycorrector) (1.3.3)\n",
            "Requirement already satisfied: jieba in /usr/local/lib/python3.6/dist-packages (from pycorrector) (0.39)\n",
            "Requirement already satisfied: numpy>=1.11.0 in /usr/local/lib/python3.6/dist-packages (from scikit-learn->pycorrector) (1.17.4)\n",
            "Requirement already satisfied: joblib>=0.11 in /usr/local/lib/python3.6/dist-packages (from scikit-learn->pycorrector) (0.14.1)\n"
          ],
          "name": "stdout"
        }
      ]
    },
    {
      "cell_type": "code",
      "metadata": {
        "id": "MU9dU0DQKg6B",
        "colab_type": "code",
        "colab": {
          "base_uri": "https://localhost:8080/",
          "height": 34
        },
        "outputId": "041ff1a9-ab2c-46e6-bc6e-9d281724fcfc"
      },
      "source": [
        "!sudo pip install opencc"
      ],
      "execution_count": 3,
      "outputs": [
        {
          "output_type": "stream",
          "text": [
            "Requirement already satisfied: opencc in /usr/local/lib/python3.6/dist-packages (0.2)\n"
          ],
          "name": "stdout"
        }
      ]
    },
    {
      "cell_type": "code",
      "metadata": {
        "id": "uEPMbLWAHRoi",
        "colab_type": "code",
        "colab": {}
      },
      "source": [
        "迫不急待 \n",
        "怨天由人\n",
        "別出新裁\n",
        "祖父去逝\n",
        "百感焦急\n",
        "秋水依人\n",
        "面黃飢瘦\n",
        "出奇致勝\n",
        "固步自封\n",
        "發號司令\n",
        "素味平生\n",
        "奈人尋味\n",
        "興緻勃勃\n",
        "老生長談"
      ],
      "execution_count": 0,
      "outputs": []
    },
    {
      "cell_type": "code",
      "metadata": {
        "id": "bHJXDLP7AN4H",
        "colab_type": "code",
        "colab": {}
      },
      "source": [
        "import pycorrector\n",
        "import opencc "
      ],
      "execution_count": 0,
      "outputs": []
    },
    {
      "cell_type": "code",
      "metadata": {
        "id": "E3B87eV0Hikw",
        "colab_type": "code",
        "colab": {}
      },
      "source": [
        "input = '別出新裁'\n",
        "input = opencc.convert(input, config='t2s.json')"
      ],
      "execution_count": 0,
      "outputs": []
    },
    {
      "cell_type": "code",
      "metadata": {
        "id": "HrX-Db7sAVfI",
        "colab_type": "code",
        "colab": {
          "base_uri": "https://localhost:8080/",
          "height": 34
        },
        "outputId": "a4932b70-cc2f-4046-a3e7-c1273a9dfb22"
      },
      "source": [
        "corrected_sent, detail = pycorrector.correct(input)\n",
        "print(corrected_sent, detail)"
      ],
      "execution_count": 14,
      "outputs": [
        {
          "output_type": "stream",
          "text": [
            "别出新裁 []\n"
          ],
          "name": "stdout"
        }
      ]
    },
    {
      "cell_type": "code",
      "metadata": {
        "id": "B8U6Tdw7HZhy",
        "colab_type": "code",
        "colab": {
          "base_uri": "https://localhost:8080/",
          "height": 34
        },
        "outputId": "91b92c20-9f03-4844-aff1-b7ad99954db1"
      },
      "source": [
        "corrected_sent = opencc.convert(corrected_sent, config='s2t.json')\n",
        "print(corrected_sent)"
      ],
      "execution_count": 15,
      "outputs": [
        {
          "output_type": "stream",
          "text": [
            "別出新裁\n"
          ],
          "name": "stdout"
        }
      ]
    }
  ]
}